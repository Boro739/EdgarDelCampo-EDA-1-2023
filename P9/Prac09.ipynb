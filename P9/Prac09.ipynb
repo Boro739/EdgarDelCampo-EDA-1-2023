{
 "cells": [
  {
   "attachments": {},
   "cell_type": "markdown",
   "metadata": {},
   "source": [
    "# Variables y tipos\n",
    "* Los nombres de las variables son alfanuméricos (a-z, A-Z, 0-9) y empiezan con una\n",
    "letra en minúscula.  \n",
    "* No se especifica el tipo de valor que una varible contiene, está implícito al\n",
    "momento de asignar un valor.  \n",
    "* No se necesita poner ; al final de cada instrucción.  \n",
    "* Mantener las indentaciones al momento de escribir código.  \n",
    "\n",
    "### Nombres reservados en Python\n",
    "and, as, assert, break, class, continue, def, del, elif, else, except, exec, finally, for, from,\n",
    "global, if, import, in, is, lambda, not, or, pass, print, raise, return, try, while, with, yield."
   ]
  },
  {
   "cell_type": "code",
   "execution_count": 1,
   "metadata": {},
   "outputs": [
    {
     "name": "stdout",
     "output_type": "stream",
     "text": [
      "10\n",
      "Hola mundo\n"
     ]
    }
   ],
   "source": [
    "#Inicializando variables \n",
    "x=10        #variable de tipo entero \n",
    "print(x)    #funcion para imprimir los valores de las variables \n",
    "\n",
    "#Se puede utlizar comillas dobles o simples para crear una cadena \n",
    "cadena= \"Hola mundo\"    #variable de tipo cadena \n",
    "print(cadena)"
   ]
  },
  {
   "cell_type": "code",
   "execution_count": 2,
   "metadata": {},
   "outputs": [
    {
     "name": "stdout",
     "output_type": "stream",
     "text": [
      "10 10 10\n"
     ]
    }
   ],
   "source": [
    "#Asigna un mismo valor a tres variables \n",
    "x = y = z = 10\n",
    "print(x,y,z)"
   ]
  },
  {
   "cell_type": "code",
   "execution_count": 3,
   "metadata": {},
   "outputs": [
    {
     "data": {
      "text/plain": [
       "int"
      ]
     },
     "execution_count": 3,
     "metadata": {},
     "output_type": "execute_result"
    }
   ],
   "source": [
    "#La funcion type() permite  conocer el tipo de una variable \n",
    "type(x)"
   ]
  },
  {
   "cell_type": "code",
   "execution_count": 4,
   "metadata": {},
   "outputs": [
    {
     "data": {
      "text/plain": [
       "str"
      ]
     },
     "execution_count": 4,
     "metadata": {},
     "output_type": "execute_result"
    }
   ],
   "source": [
    "type(cadena)"
   ]
  },
  {
   "cell_type": "code",
   "execution_count": 5,
   "metadata": {},
   "outputs": [],
   "source": [
    "#Se pueden cambiar los valores de las variables y el tipo se cambia automáticamente\n",
    "x = \"Hola Mundo\"\n",
    "cadena = 10"
   ]
  },
  {
   "cell_type": "code",
   "execution_count": 6,
   "metadata": {},
   "outputs": [
    {
     "data": {
      "text/plain": [
       "str"
      ]
     },
     "execution_count": 6,
     "metadata": {},
     "output_type": "execute_result"
    }
   ],
   "source": [
    "type(x)"
   ]
  },
  {
   "cell_type": "code",
   "execution_count": 7,
   "metadata": {},
   "outputs": [
    {
     "data": {
      "text/plain": [
       "int"
      ]
     },
     "execution_count": 7,
     "metadata": {},
     "output_type": "execute_result"
    }
   ],
   "source": [
    "type(cadena)"
   ]
  },
  {
   "attachments": {},
   "cell_type": "markdown",
   "metadata": {},
   "source": [
    "Cuando una variable tiene un valor constante, por convención, el nombre se escribe en\n",
    "mayúsculas."
   ]
  },
  {
   "cell_type": "code",
   "execution_count": 8,
   "metadata": {},
   "outputs": [],
   "source": [
    "SEGUNDOS_POR_DIA = 60 * 60 * 24\n",
    "PI = 3.14"
   ]
  },
  {
   "attachments": {},
   "cell_type": "markdown",
   "metadata": {},
   "source": [
    "# Cadenas\n",
    "Las cadenas pueden ser definidas usando comilla simple (') o comilla doble (\"). Una\n",
    "característica especial de las cadenas es que son inmutables, esto quiere decir que no se\n",
    "pueden cambiar los caracteres que contiene. El caracter \\ sirve para escapar carcteres\n",
    "como \\n o \\t."
   ]
  },
  {
   "cell_type": "code",
   "execution_count": 9,
   "metadata": {},
   "outputs": [
    {
     "name": "stdout",
     "output_type": "stream",
     "text": [
      "Hola \n",
      "Mundo\n",
      "Hola Mundo\n"
     ]
    }
   ],
   "source": [
    "#Inicializando cadenas\n",
    "cadena1 = 'Hola '\n",
    "cadena2 = \"Mundo\" \n",
    "print(cadena1)\n",
    "print(cadena2)\n",
    "concat_cadenas = cadena1 + cadena2 #Concatenación de cadenas\n",
    "print(concat_cadenas)"
   ]
  },
  {
   "cell_type": "code",
   "execution_count": 10,
   "metadata": {},
   "outputs": [
    {
     "name": "stdout",
     "output_type": "stream",
     "text": [
      "Hola Mundo 3\n"
     ]
    }
   ],
   "source": [
    "#Para concatenar un número y una cadena se debe usar la función str()\n",
    "num_cadena = concat_cadenas +' '+ str(3)  #Se agrega una cadena vacía para agregar un espacio\n",
    "print(num_cadena)"
   ]
  },
  {
   "attachments": {},
   "cell_type": "markdown",
   "metadata": {},
   "source": [
    "Para concatenar cadenas se recomienda el uso de la función format(), en lugar del viejo\n",
    "estilo del operador '+'."
   ]
  },
  {
   "cell_type": "code",
   "execution_count": 11,
   "metadata": {},
   "outputs": [
    {
     "name": "stdout",
     "output_type": "stream",
     "text": [
      "Hola  Mundo 3\n"
     ]
    }
   ],
   "source": [
    "#El valor de la variable se va a imprimir en el lugar donde se encuentre {} en la cadena\n",
    "num_cadena = \"{} {} {}\".format(cadena1, cadena2, 3)\n",
    "print(num_cadena)"
   ]
  },
  {
   "attachments": {},
   "cell_type": "markdown",
   "metadata": {},
   "source": [
    "Por medio de la función format, se puede cambiar el orden en que se imprimen las\n",
    "variables:"
   ]
  },
  {
   "cell_type": "code",
   "execution_count": 12,
   "metadata": {},
   "outputs": [
    {
     "name": "stdout",
     "output_type": "stream",
     "text": [
      "Cambiando el orden:  Mundo  3  Hola  #\n"
     ]
    }
   ],
   "source": [
    "#Cuando se agrega un númmero dentro de {#}, el valor la variable que se encuentra en esa posicón \n",
    "#dentro de la función format(), será impreso.\n",
    "num_cadena = \"Cambiando el orden:  {1}  {2}  {0} #\".format(cadena1, cadena2, 3)\n",
    "print(num_cadena)"
   ]
  },
  {
   "attachments": {},
   "cell_type": "markdown",
   "metadata": {},
   "source": [
    "# Operadores\n",
    "Aritméticos: +, -, *, /"
   ]
  },
  {
   "cell_type": "code",
   "execution_count": 15,
   "metadata": {},
   "outputs": [
    {
     "name": "stdout",
     "output_type": "stream",
     "text": [
      "6\n",
      "18\n",
      "6\n",
      "2.0\n",
      "0\n",
      "7.1\n",
      "4\n"
     ]
    }
   ],
   "source": [
    "#Para el exponente se  puede utilizar asterisco\n",
    "print( 1 + 5 )\n",
    "print( 6 * 3 )\n",
    "print( 10 - 4 )\n",
    "print( 100 / 50 )\n",
    "print( 10 % 2 )\n",
    "print( ((20 * 3) + (10 +1)) / 10 )\n",
    "print( 2**2 )"
   ]
  },
  {
   "attachments": {},
   "cell_type": "markdown",
   "metadata": {},
   "source": [
    "Booleanos: and, not, or"
   ]
  },
  {
   "cell_type": "code",
   "execution_count": 16,
   "metadata": {},
   "outputs": [
    {
     "data": {
      "text/plain": [
       "False"
      ]
     },
     "execution_count": 16,
     "metadata": {},
     "output_type": "execute_result"
    }
   ],
   "source": [
    "False and True"
   ]
  },
  {
   "attachments": {},
   "cell_type": "markdown",
   "metadata": {},
   "source": [
    "Comparación: >, <, >=, <=, =="
   ]
  },
  {
   "cell_type": "code",
   "execution_count": 17,
   "metadata": {},
   "outputs": [
    {
     "name": "stdout",
     "output_type": "stream",
     "text": [
      "False\n",
      "True\n",
      "True\n",
      "False\n",
      "True\n"
     ]
    }
   ],
   "source": [
    "print (7 < 5)  #Falso\n",
    "\n",
    "print (7 > 5) #Verdadero\n",
    "\n",
    "print ((11 * 3)+2 == 36 - 1)  #Verdadero\n",
    "\n",
    "print ((11 * 3)+2 >= 36)   #Falso\n",
    "\n",
    "print (\"curso\" != \"CuRsO\") #Verdadero"
   ]
  },
  {
   "attachments": {},
   "cell_type": "markdown",
   "metadata": {},
   "source": [
    "# Listas  \n",
    "* Básicamente son valores que están separados por comas dentro de paréntesis\n",
    "cuadrados.  \n",
    "* Está compuesta por cualquier cantidad y/o tipo de datos, ya sean cadenas,\n",
    "caracteres, números e inclusive otras listas.  \n",
    "* Se puede acceder a las listas por medio de índices, estos índices comienzan desde 0\n",
    "hasta el número de elementos menos 1.  \n",
    "* Las listas son mutables."
   ]
  }
 ],
 "metadata": {
  "kernelspec": {
   "display_name": "Python 3",
   "language": "python",
   "name": "python3"
  },
  "language_info": {
   "codemirror_mode": {
    "name": "ipython",
    "version": 3
   },
   "file_extension": ".py",
   "mimetype": "text/x-python",
   "name": "python",
   "nbconvert_exporter": "python",
   "pygments_lexer": "ipython3",
   "version": "3.10.11"
  },
  "orig_nbformat": 4,
  "vscode": {
   "interpreter": {
    "hash": "bceb2ce64f67447df4f7d5b4345e4bd0834bcd96655eb64332a64af621c6428d"
   }
  }
 },
 "nbformat": 4,
 "nbformat_minor": 2
}
